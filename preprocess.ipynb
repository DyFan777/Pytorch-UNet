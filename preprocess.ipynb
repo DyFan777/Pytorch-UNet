{
 "cells": [
  {
   "cell_type": "code",
   "execution_count": null,
   "metadata": {},
   "outputs": [],
   "source": [
    "# Load the necessary packages. \n",
    "\n",
    "import numpy as np \n",
    "import math\n",
    "import torch\n",
    "\n",
    "import os\n",
    "from os import listdir\n",
    "from os.path import isfile, join\n",
    "from pathlib import Path\n",
    "import h5py\n",
    "\n",
    "from torch.utils.data import DataLoader"
   ]
  },
  {
   "cell_type": "code",
   "execution_count": 50,
   "metadata": {},
   "outputs": [],
   "source": [
    "# internal load \n",
    "from unet_2 import UNet_2"
   ]
  },
  {
   "cell_type": "code",
   "execution_count": 2,
   "metadata": {},
   "outputs": [],
   "source": [
    "# Load the experiment data. \n",
    "\n",
    "dir_exp = 'Z:/Dongyu Fan/2. Data/ImageProcessing/Simulation/2024-11-18/17-58/img/'\n",
    "# dir_mask = 'Z:/Dongyu Fan/2. Data/ImageProcessing/Simulation/2024-11-13/15-53/mask/'\n",
    "# dir_D = 'Z:/Dongyu Fan/2. Data/ImageProcessing/Simulation/2024-11-13/15-53/Diffusion/'\n",
    "# D_range = [0.01, 1]"
   ]
  },
  {
   "cell_type": "code",
   "execution_count": 84,
   "metadata": {},
   "outputs": [],
   "source": [
    "filename = dir_exp + 'img_1.mat'\n",
    "file = load_file(filename)"
   ]
  },
  {
   "cell_type": "code",
   "execution_count": 86,
   "metadata": {},
   "outputs": [
    {
     "data": {
      "text/plain": [
       "(250, 250, 21)"
      ]
     },
     "execution_count": 86,
     "metadata": {},
     "output_type": "execute_result"
    }
   ],
   "source": [
    "np.shape(file)"
   ]
  },
  {
   "cell_type": "code",
   "execution_count": null,
   "metadata": {},
   "outputs": [
    {
     "name": "stdout",
     "output_type": "stream",
     "text": [
      "Crop positions: [0, 51, 102, 153, 186]\n"
     ]
    }
   ],
   "source": [
    "patch_size = 64\n",
    "image_size = 250\n",
    "overlay = 0.2\n",
    "\n",
    "\n",
    "#ls =  range(0, w ,  math.floor(patch_size * (1 - overlay)))\n",
    "step = math.floor(patch_size * (1 - overlay))\n",
    "\n",
    "crop_positions = []\n",
    "# Calculate crop positions\n",
    "for start in range(0, image_size - patch_size + 1, step):\n",
    "    crop_positions.append(start)\n",
    "\n",
    "# Ensure the last crop aligns with the image edge\n",
    "if crop_positions[-1] + patch_size < image_size:\n",
    "    crop_positions.append(image_size - patch_size)\n",
    "\n",
    "print(\"Crop positions:\", crop_positions)"
   ]
  },
  {
   "cell_type": "code",
   "execution_count": 105,
   "metadata": {},
   "outputs": [
    {
     "name": "stdout",
     "output_type": "stream",
     "text": [
      "<class '__main__.experiment_loader'>\n"
     ]
    }
   ],
   "source": [
    "print(experiment_loader)\n"
   ]
  },
  {
   "cell_type": "code",
   "execution_count": 100,
   "metadata": {},
   "outputs": [],
   "source": [
    "dataset = experiment_loader(dir_exp)\n",
    "#loader_args = dict(batch_size=1, num_workers=os.cpu_count(), pin_memory=True) # Multi processing introduces errors\n",
    "exp_data = DataLoader(dataset,batch_size=1)\n",
    "\n",
    "for batch in exp_data:\n",
    "    a = (batch['image'])\n",
    "    a = a.squeeze(0)   # Reduce the dimension for batch. \n",
    "    break "
   ]
  },
  {
   "cell_type": "code",
   "execution_count": null,
   "metadata": {},
   "outputs": [
    {
     "data": {
      "text/plain": [
       "torch.Size([50, 64, 64, 3])"
      ]
     },
     "execution_count": 47,
     "metadata": {},
     "output_type": "execute_result"
    }
   ],
   "source": []
  },
  {
   "cell_type": "code",
   "execution_count": 3,
   "metadata": {},
   "outputs": [],
   "source": [
    "def load_file(filename):\n",
    "    ext = filename.split('.')[-1]\n",
    "    if ext == 'mat':\n",
    "        try:\n",
    "            # Try to open with h5py for MATLAB version 7.3+\n",
    "            \n",
    "            mat_file = h5py.File(filename, 'r')\n",
    "            keys = list(mat_file.keys())\n",
    "            if not keys:\n",
    "                raise ValueError(\"No datasets found in the .mat file.\")\n",
    "            dataset_name = keys[0]\n",
    "            file = mat_file[dataset_name][:].T\n",
    "            if len(file.shape) == 3:\n",
    "                file = (file * 255 ).astype(np.uint8)\n",
    "            return file\n",
    "        except OSError:\n",
    "            # If it's not an HDF5 file, fall back to scipy for older versions\n",
    "            # print(f\"{filename} is not an HDF5 file, trying scipy.io.loadmat()\")\n",
    "            mat_file = scipy.io.loadmat(filename)\n",
    "            keys = list(mat_file.keys())\n",
    "            # Skip MATLAB-specific meta fields like __header__, __version__, __globals__\n",
    "            data_keys = [key for key in keys if not key.startswith('__')]\n",
    "            if not data_keys:\n",
    "                raise ValueError(\"No datasets found in the .mat file.\")\n",
    "            dataset_name = data_keys[0]\n",
    "            return file\n",
    "        \n",
    "    # elif ext == 'tif':  # need to add more details on file loading \n",
    "        "
   ]
  },
  {
   "cell_type": "code",
   "execution_count": 99,
   "metadata": {},
   "outputs": [],
   "source": [
    "class experiment_loader():\n",
    "    def __init__(self, dir_exp:str, patch_size: float = 64, overlap: float = 0.2, channel: float = 3):\n",
    "        self.dir_exp = Path(dir_exp)\n",
    "        self.patch_size = patch_size\n",
    "        self.overlap = overlap\n",
    "        self.channel = channel\n",
    "        # self.ids = range(len([file for file in listdir(dir_exp) if isfile(join(dir_exp, file))] ))\n",
    "        self.filelist = [file for file in listdir(dir_exp) if isfile(join(dir_exp, file))]\n",
    "        self.idx = range(len(self.filelist))\n",
    "        if not self.idx:\n",
    "            raise RuntimeError(f'No input file found in {dir_exp}.')\n",
    "\n",
    "    def __len__(self):\n",
    "        return len(self.filelist)\n",
    "    def __getitem__(self, idx):\n",
    "        img_file = join(self.dir_exp, self.filelist[idx])\n",
    "        img = load_file(img_file)  # The returned img is a numpy matrix \n",
    "\n",
    "        processed_img = self.preprocess(img, img_file, self.patch_size, self.overlap, self.channel)\n",
    "        return {'image': torch.as_tensor(processed_img.copy()).float().contiguous(),}\n",
    "\n",
    "        \n",
    "\n",
    "    def preprocess(self, img, img_file, patch_size, overlap, channel):\n",
    "        # Check the size of the image \n",
    "        if len(np.shape(img)) == 2:\n",
    "            w,h = np.shape(img)\n",
    "            f = 1\n",
    "        elif len(np.shape(img)) == 3:\n",
    "            w,h,f = np.shape(img)\n",
    "\n",
    "        else: \n",
    "            raise RuntimeError(f'Check the input file dimensions: {img_file}.')\n",
    "\n",
    "        # Crop it into smaller pieces, for model input.\n",
    "        # First check if the img is too small.  \n",
    "\n",
    "        if (w < patch_size) | (h < patch_size): \n",
    "            raise ValueError(f'The image file is too small. At least {patch_size} pixels of width and height: \\n {img_file}')\n",
    "        \n",
    "\n",
    "        # Start to crop \n",
    "        step_size = math.floor(patch_size * (1 - overlap))    # The steps with the overlay included.\n",
    "        # initiate the x y cropping index\n",
    "        x_ind = []\n",
    "        y_ind = []\n",
    "\n",
    "        # crop in x: \n",
    "        for start in range(0, w - patch_size + 1, step_size):\n",
    "            x_ind.append(start)\n",
    "\n",
    "        # Take care of the edge: \n",
    "        if (x_ind[-1] + patch_size ) < w:\n",
    "            x_ind.append(w - patch_size)\n",
    "\n",
    "\n",
    "        # crop in y: \n",
    "        for start in range(0, h - patch_size + 1, step_size):\n",
    "            y_ind.append(start)\n",
    "\n",
    "        if (y_ind[-1] + patch_size ) < h:\n",
    "            y_ind.append(h - patch_size)\n",
    "\n",
    "        # devide in frames, same as xy but no overlay:\n",
    "        f_ind = []\n",
    "\n",
    "        for start in range(0, f - channel + 1, channel ):\n",
    "            f_ind.append(start)\n",
    "        if (f_ind[-1] + channel ) < f: \n",
    "            f_ind.append(f - channel)\n",
    "\n",
    "        # Construct the cropped images as input: \n",
    "        index = 0\n",
    "        l = len(x_ind) * len(y_ind) * len(f_ind)\n",
    "        img_array = np.zeros([l,channel, patch_size, patch_size])\n",
    "        for xi, i in enumerate(x_ind):\n",
    "            for yj, j in enumerate(y_ind):\n",
    "                for fk, k in enumerate(f_ind): \n",
    "                    # Crop the frame correctly\n",
    "                    frame = img[i:i + patch_size, j:j + patch_size, k:k + channel]\n",
    "                    frame = (frame - np.min(frame))/(np.max(frame) -  np.min(frame))\n",
    "                    frame = np.transpose(frame , (2,0,1)) # Reorder from [batch_size, height, width, channels] to [batch_size, channels, height, width]\n",
    "                    img_array[index] = frame\n",
    "                    index += 1\n",
    "        return img_array\n",
    "\n",
    "\n",
    "    "
   ]
  },
  {
   "cell_type": "code",
   "execution_count": null,
   "metadata": {},
   "outputs": [],
   "source": []
  },
  {
   "cell_type": "code",
   "execution_count": null,
   "metadata": {},
   "outputs": [],
   "source": [
    "\n",
    "\n",
    "def load_image(filename):\n",
    "    ext = splitext(filename)[1]\n",
    "    if ext == '.npy':\n",
    "        return Image.fromarray(np.load(filename))\n",
    "    elif ext in ['.pt', '.pth']:\n",
    "        return Image.fromarray(torch.load(filename).numpy())\n",
    "    elif ext == '.mat':\n",
    "        try:\n",
    "            # Try to open with h5py for MATLAB version 7.3+\n",
    "            \n",
    "            mat_file = h5py.File(filename, 'r')\n",
    "            keys = list(mat_file.keys())\n",
    "            if not keys:\n",
    "                raise ValueError(\"No datasets found in the .mat file.\")\n",
    "            dataset_name = keys[0]\n",
    "            file = mat_file[dataset_name][:].T\n",
    "            if len(file.shape) == 3:\n",
    "                file = (file * 255 ).astype(np.uint8)\n",
    "            imgfile = Image.fromarray(file)  \n",
    "            return imgfile\n",
    "        except OSError:\n",
    "            # If it's not an HDF5 file, fall back to scipy for older versions\n",
    "            # print(f\"{filename} is not an HDF5 file, trying scipy.io.loadmat()\")\n",
    "            mat_file = scipy.io.loadmat(filename)\n",
    "            keys = list(mat_file.keys())\n",
    "            # Skip MATLAB-specific meta fields like __header__, __version__, __globals__\n",
    "            data_keys = [key for key in keys if not key.startswith('__')]\n",
    "            if not data_keys:\n",
    "                raise ValueError(\"No datasets found in the .mat file.\")\n",
    "            dataset_name = data_keys[0]\n",
    "            imgfile = Image.fromarray(mat_file[dataset_name])  # Load array from mat file\n",
    "            return imgfile\n",
    "    else:\n",
    "        return Image.open(filename)\n",
    "\n",
    "\n",
    "def unique_mask_values(idx, mask_dir, mask_suffix):\n",
    "    #print(idx)\n",
    "\n",
    "    mask_file = list(mask_dir.glob(idx + mask_suffix + '.*'))[0]\n",
    "    mask = np.asarray(load_image(mask_file))\n",
    "    if mask.ndim == 2:\n",
    "        return np.unique(mask)\n",
    "    elif mask.ndim == 3:\n",
    "        mask = mask.reshape(-1, mask.shape[-1])\n",
    "        return np.unique(mask, axis=0)\n",
    "    else:\n",
    "        raise ValueError(f'Loaded masks should have 2 or 3 dimensions, found {mask.ndim}')\n",
    "\n",
    "\n",
    "class BasicDataset_2(Dataset):\n",
    "    def __init__(self, images_dir: str, mask_dir: str, D_dir: str,D_range: list, scale: float = 1.0, mask_suffix: str = '', D_suffix: str = '' ):\n",
    "        self.images_dir = Path(images_dir)\n",
    "        self.mask_dir = Path(mask_dir)\n",
    "        self.D_dir = Path(D_dir)\n",
    "        assert 0 < scale <= 1, 'Scale must be between 0 and 1'\n",
    "        self.scale = scale\n",
    "        self.mask_suffix = mask_suffix\n",
    "        self.D_suffix = D_suffix\n",
    "        self.D_range = D_range\n",
    "\n",
    "        self.ids = [splitext(file)[0] for file in listdir(images_dir) if isfile(join(images_dir, file)) and not file.startswith('.')]\n",
    "        if not self.ids:\n",
    "            raise RuntimeError(f'No input file found in {images_dir}, make sure you put your images there')\n",
    "\n",
    "        logging.info(f'Creating dataset with {len(self.ids)} examples')\n",
    "        logging.info('Scanning mask files to determine unique values')\n",
    "        #logging.info(self.ids)\n",
    "        with Pool() as p:\n",
    "            unique = list(tqdm(\n",
    "                p.imap(partial(unique_mask_values, mask_dir=self.mask_dir, mask_suffix=self.mask_suffix), self.ids),\n",
    "                total=len(self.ids)\n",
    "            ))\n",
    "\n",
    "        self.mask_values = list(sorted(np.unique(np.concatenate(unique), axis=0).tolist()))\n",
    "        logging.info(f'Unique mask values: {self.mask_values}')\n",
    "\n",
    "    def __len__(self):\n",
    "        return len(self.ids)\n",
    "\n",
    "    @staticmethod\n",
    "    def preprocess(mask_values, pil_img, scale, D_range, img_type):\n",
    "        #type 1 = mask, type 2: D, type 3: img\n",
    "        w, h = pil_img.size\n",
    "        newW, newH = int(scale * w), int(scale * h)\n",
    "        assert newW > 0 and newH > 0, 'Scale is too small, resized images would have no pixel'\n",
    "        pil_img = pil_img.resize((newW, newH), resample=Image.NEAREST if img_type == 1 or img_type ==2 else Image.BICUBIC)\n",
    "        img = np.asarray(pil_img)\n",
    "\n",
    "        if img_type == 1:\n",
    "            mask = np.zeros((newH, newW), dtype=np.int64)\n",
    "            for i, v in enumerate(mask_values):\n",
    "                if img.ndim == 2:\n",
    "                    mask[img == v] = i\n",
    "                else:\n",
    "                    mask[(img == v).all(-1)] = i\n",
    "\n",
    "            return mask\n",
    "        elif img_type == 2:\n",
    "            img = (img - D_range[0])/(D_range[1] - D_range[0])\n",
    "            return img\n",
    "        elif img_type == 3:\n",
    "            if img.ndim == 2:\n",
    "                img = img[np.newaxis, ...]\n",
    "            else:\n",
    "                img = img.transpose((2, 0, 1))\n",
    "\n",
    "            if (img > 1).any():\n",
    "#                img = img / 255.0\n",
    "                img = (img - np.min(img) )/np.max(img)  #Normalize based on the largest value \n",
    "\n",
    "            return img\n",
    "\n",
    "    def __getitem__(self, idx):\n",
    "        name = self.ids[idx]\n",
    "        mask_file = list(self.mask_dir.glob(name + self.mask_suffix + '.*'))\n",
    "        img_file = list(self.images_dir.glob(name + '.*'))\n",
    "        D_file = list(self.D_dir.glob(name + self.D_suffix + '.*'))\n",
    "\n",
    "        assert len(img_file) == 1, f'Either no image or multiple images found for the ID {name}: {img_file}'\n",
    "        assert len(mask_file) == 1, f'Either no mask or multiple masks found for the ID {name}: {mask_file}'\n",
    "        assert len(D_file) == 1, f'Either no D_map or multiple D_map found for the ID {name}: {D_file}'\n",
    "        mask = load_image(mask_file[0])\n",
    "        img = load_image(img_file[0])\n",
    "        D = load_image(D_file[0])\n",
    "\n",
    "        assert img.size == mask.size, \\\n",
    "            f'Image and mask {name} should be the same size, but are {img.size} and {mask.size}'\n",
    "\n",
    "        img = self.preprocess(self.mask_values, img, self.scale,  self.D_range, img_type = 3)\n",
    "        mask = self.preprocess(self.mask_values, mask, self.scale,  self.D_range, img_type = 1)\n",
    "        D = self.preprocess(self.mask_values, D ,self.scale,  self.D_range, img_type = 2 )\n",
    "\n",
    "\n",
    "        return {\n",
    "            'image': torch.as_tensor(img.copy()).float().contiguous(),\n",
    "            'mask': torch.as_tensor(mask.copy()).long().contiguous(),\n",
    "            'D': torch.as_tensor(D.copy()).float().contiguous()\n",
    "        }\n",
    "\n",
    "\n",
    "class CarvanaDataset_2(BasicDataset_2):\n",
    "    def __init__(self, images_dir, mask_dir, D_dir, D_range, scale=1):\n",
    "        super().__init__(images_dir, mask_dir, D_dir, D_range, scale, mask_suffix='_mask', D_suffix = '_D')\n",
    "\n"
   ]
  },
  {
   "cell_type": "code",
   "execution_count": null,
   "metadata": {},
   "outputs": [],
   "source": []
  },
  {
   "cell_type": "code",
   "execution_count": null,
   "metadata": {},
   "outputs": [],
   "source": []
  },
  {
   "cell_type": "code",
   "execution_count": null,
   "metadata": {},
   "outputs": [],
   "source": []
  },
  {
   "cell_type": "code",
   "execution_count": 52,
   "metadata": {},
   "outputs": [],
   "source": [
    "# Now let's test to run in the model:\n",
    "\n",
    "\n",
    "# load the model \n",
    "dir_model = 'Z:/Dongyu Fan/2. Data/ImageProcessing/training/2024-11-14/11-14_09-40/model_checkpoint_1.pth'"
   ]
  },
  {
   "cell_type": "code",
   "execution_count": 53,
   "metadata": {},
   "outputs": [],
   "source": [
    "# 1. load the model \n",
    "# Initialize the model \n",
    "model = UNet_2(n_channels=3, n_classes=1,bilinear=False)\n",
    "# Load the saved state_dict\n",
    "model.load_state_dict(torch.load(dir_model,map_location=torch.device('cpu') ))\n",
    "# Set to evaluation mode\n",
    "model.eval()\n",
    "\n",
    "# 3.  Perform evaluation\n",
    "# Set up the device: \n",
    "device = torch.device('cuda' if torch.cuda.is_available() else 'cpu')"
   ]
  },
  {
   "cell_type": "code",
   "execution_count": null,
   "metadata": {},
   "outputs": [],
   "source": [
    "with torch.autocast(device.type if device.type != 'mps' else 'cpu'):\n",
    "        for batch in exp_data:\n",
    "            images = batch['image']\n",
    "            images = images.squeeze(0)   # Reduce the dimension for batch. \n",
    "            images = images.to(device)\n",
    "            # Forward pass\n",
    "            masks_pred, diffusion_pred = model(images)  # Ensure you unpack the outputs\n",
    "            \n",
    "            mask,diff = post_group(masks_pred,diffusion_pred,250,250,21, 64, 0.2,3)\n",
    "            result = mask * diff\n",
    "            \n",
    "            \n"
   ]
  },
  {
   "cell_type": "code",
   "execution_count": 182,
   "metadata": {},
   "outputs": [],
   "source": [
    "def post_group(masks_pred,diffusion_pred,w,h,f, patch_size,overlap,channel ):\n",
    "\n",
    "\n",
    "    # Start to crop \n",
    "    step_size = math.floor(patch_size * (1 - overlap))    # The steps with the overlay included.\n",
    "    # initiate the x y cropping index\n",
    "    x_ind = []\n",
    "    y_ind = []\n",
    "\n",
    "    # crop in x: \n",
    "    for start in range(0, w - patch_size + 1, step_size):\n",
    "        x_ind.append(start)\n",
    "\n",
    "    # Take care of the edge: \n",
    "    if (x_ind[-1] + patch_size ) < w:\n",
    "        x_ind.append(w - patch_size)\n",
    "\n",
    "\n",
    "    # crop in y: \n",
    "    for start in range(0, h - patch_size + 1, step_size):\n",
    "        y_ind.append(start)\n",
    "\n",
    "    if (y_ind[-1] + patch_size ) < h:\n",
    "        y_ind.append(h - patch_size)\n",
    "\n",
    "    # devide in frames, same as xy but no overlay:\n",
    "    f_ind = []\n",
    "\n",
    "    for start in range(0, f - channel + 1, channel ):\n",
    "        f_ind.append(start)\n",
    "    if (f_ind[-1] + channel ) < f: \n",
    "        f_ind.append(f - channel) \n",
    "    index = 0\n",
    "\n",
    "    reconstructed_mask = np.zeros([w,h,len(f_ind)])\n",
    "    reconstructed_diff = np.zeros([w,h,len(f_ind)])\n",
    "    # Create a weight array to track how many times each pixel is written\n",
    "    weights = np.zeros((w, h, len(f_ind)))\n",
    "\n",
    "    for xi, i in enumerate(x_ind):\n",
    "        for yj, j in enumerate(y_ind):\n",
    "            for k in range(len(f_ind)):\n",
    "                # Get the patch\n",
    "                patch_mask = masks_pred[index].to(dtype=torch.float32).permute(1,2,0).squeeze().detach().cpu().numpy()\n",
    "                reconstructed_mask[i:i + patch_size, j:j + patch_size, k] += patch_mask\n",
    "\n",
    "                patch_diff = diffusion_pred[index].to(dtype=torch.float32).permute(1,2,0).squeeze().detach().cpu().numpy()\n",
    "\n",
    "                reconstructed_diff[i:i + patch_size, j:j + patch_size, k] += patch_diff\n",
    "                weights[i:i + patch_size, j:j + patch_size, :] += 1\n",
    "                index += 1\n",
    "    \n",
    "    # Average the overlaps\n",
    "    #reconstructed_mask /= weights\n",
    "    reconstructed_mask = (reconstructed_mask / weights) > 0.5\n",
    "    reconstructed_mask = reconstructed_mask.astype(np.uint8)  # Convert to binary (0 or 1)\n",
    "    reconstructed_diff /= weights\n",
    "\n",
    "    return reconstructed_mask, reconstructed_diff"
   ]
  },
  {
   "cell_type": "code",
   "execution_count": 180,
   "metadata": {},
   "outputs": [],
   "source": [
    "for i in range(np.shape(masks_pred)[0]):\n",
    "    m = masks_pred[i,:,:,:]\n",
    "    m = m.to(dtype=torch.float32).permute(1,2,0).squeeze().detach().cpu().numpy()\n",
    "    #plt.imshow(m)\n",
    "    #plt.show()\n"
   ]
  },
  {
   "cell_type": "code",
   "execution_count": null,
   "metadata": {},
   "outputs": [
    {
     "data": {
      "text/plain": [
       "torch.Size([1, 64, 64])"
      ]
     },
     "execution_count": 164,
     "metadata": {},
     "output_type": "execute_result"
    }
   ],
   "source": []
  },
  {
   "cell_type": "code",
   "execution_count": 103,
   "metadata": {},
   "outputs": [],
   "source": [
    "\n",
    "# np.shape(file)\n",
    "w = 250\n",
    "h = 250\n",
    "f = 21\n",
    "patch_size = 64\n",
    "overlap = 0.2\n",
    "channel = 3\n",
    "step_size = math.floor(patch_size * (1 - overlap))    # The steps with the overlay included.\n",
    "# crop in x: \n",
    "x_ind = []\n",
    "y_ind = []\n",
    "for start in range(0, w - patch_size + 1, step_size):\n",
    "    x_ind.append(start)\n",
    "\n",
    "\n",
    "# Take care of the edge: \n",
    "if (x_ind[-1] + patch_size ) < w:\n",
    "    x_ind.append(w - patch_size)\n",
    "\n",
    "\n",
    "# crop in y: \n",
    "for start in range(0, h - patch_size + 1, step_size):\n",
    "    y_ind.append(start)\n",
    "\n",
    "if (y_ind[-1] + patch_size ) < h:\n",
    "    y_ind.append(h - patch_size)\n",
    "\n",
    "# devide in frames, same as xy but no overlay:\n",
    "f_ind = []\n",
    "\n",
    "for start in range(0, f - channel + 1, channel ):\n",
    "    f_ind.append(start)\n",
    "if (f_ind[-1] + channel ) < f: \n",
    "    f_ind.append(f - channel) "
   ]
  },
  {
   "cell_type": "code",
   "execution_count": null,
   "metadata": {},
   "outputs": [
    {
     "data": {
      "text/plain": [
       "(250, 250, 21)"
      ]
     },
     "execution_count": 140,
     "metadata": {},
     "output_type": "execute_result"
    }
   ],
   "source": []
  },
  {
   "cell_type": "code",
   "execution_count": 195,
   "metadata": {},
   "outputs": [
    {
     "data": {
      "text/plain": [
       "<matplotlib.image.AxesImage at 0x24cd25b4380>"
      ]
     },
     "execution_count": 195,
     "metadata": {},
     "output_type": "execute_result"
    },
    {
     "data": {
      "image/png": "[encoded data removed]",
      "text/plain": [
       "<Figure size 640x480 with 1 Axes>"
      ]
     },
     "metadata": {},
     "output_type": "display_data"
    }
   ],
   "source": [
    "import matplotlib.pyplot as plt\n",
    "sum_result = np.sum(result,2)\n",
    "plt.imshow(sum_result)"
   ]
  },
  {
   "cell_type": "code",
   "execution_count": 183,
   "metadata": {},
   "outputs": [],
   "source": [
    "mask,diff = post_group(masks_pred,diffusion_pred,250,250,21, 64, 0.2,3)\n",
    "result = mask * diff"
   ]
  }
 ],
 "metadata": {
  "kernelspec": {
   "display_name": "sim_psf",
   "language": "python",
   "name": "python3"
  },
  "language_info": {
   "codemirror_mode": {
    "name": "ipython",
    "version": 3
   },
   "file_extension": ".py",
   "mimetype": "text/x-python",
   "name": "python",
   "nbconvert_exporter": "python",
   "pygments_lexer": "ipython3",
   "version": "3.12.2"
  }
 },
 "nbformat": 4,
 "nbformat_minor": 2
}
