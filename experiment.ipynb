{
 "cells": [
  {
   "cell_type": "code",
   "execution_count": null,
   "metadata": {},
   "outputs": [],
   "source": [
    "# Load the necessary packages. "
   ]
  },
  {
   "cell_type": "code",
   "execution_count": 1,
   "metadata": {},
   "outputs": [],
   "source": [
    "# Load the experiment data. \n",
    "\n",
    "dir_exp = 'Z:/Dongyu Fan/2. Data/ImageProcessing/Simulation/2024-11-13/15-53/img/'\n",
    "\n",
    "# load the model \n",
    "dir_model = 'Z:/Dongyu Fan/2. Data/ImageProcessing/training/2024-11-14/11-14_09-40/model_checkpoint_1.pth'"
   ]
  },
  {
   "cell_type": "code",
   "execution_count": null,
   "metadata": {},
   "outputs": [],
   "source": [
    "# Data loader "
   ]
  },
  {
   "cell_type": "code",
   "execution_count": 2,
   "metadata": {},
   "outputs": [
    {
     "ename": "NameError",
     "evalue": "name 'UNet_2' is not defined",
     "output_type": "error",
     "traceback": [
      "\u001b[1;31m---------------------------------------------------------------------------\u001b[0m",
      "\u001b[1;31mNameError\u001b[0m                                 Traceback (most recent call last)",
      "Cell \u001b[1;32mIn[2], line 3\u001b[0m\n\u001b[0;32m      1\u001b[0m \u001b[38;5;66;03m# 1. load the model \u001b[39;00m\n\u001b[0;32m      2\u001b[0m \u001b[38;5;66;03m# Initialize the model \u001b[39;00m\n\u001b[1;32m----> 3\u001b[0m model \u001b[38;5;241m=\u001b[39m \u001b[43mUNet_2\u001b[49m(n_channels\u001b[38;5;241m=\u001b[39m\u001b[38;5;241m3\u001b[39m, n_classes\u001b[38;5;241m=\u001b[39m\u001b[38;5;241m1\u001b[39m,bilinear\u001b[38;5;241m=\u001b[39m\u001b[38;5;28;01mFalse\u001b[39;00m)\n\u001b[0;32m      4\u001b[0m \u001b[38;5;66;03m# Load the saved state_dict\u001b[39;00m\n\u001b[0;32m      5\u001b[0m model\u001b[38;5;241m.\u001b[39mload_state_dict(torch\u001b[38;5;241m.\u001b[39mload(dir_model,map_location\u001b[38;5;241m=\u001b[39mtorch\u001b[38;5;241m.\u001b[39mdevice(\u001b[38;5;124m'\u001b[39m\u001b[38;5;124mcpu\u001b[39m\u001b[38;5;124m'\u001b[39m) ))\n",
      "\u001b[1;31mNameError\u001b[0m: name 'UNet_2' is not defined"
     ]
    }
   ],
   "source": [
    "# 1. load the model \n",
    "# Initialize the model \n",
    "model = UNet_2(n_channels=3, n_classes=1,bilinear=False)\n",
    "# Load the saved state_dict\n",
    "model.load_state_dict(torch.load(dir_model,map_location=torch.device('cpu') ))\n",
    "# Set to evaluation mode\n",
    "model.eval()\n",
    "\n",
    "# 3.  Perform evaluation\n",
    "# Set up the device: \n",
    "device = torch.device('cuda' if torch.cuda.is_available() else 'cpu')\n",
    "\n"
   ]
  },
  {
   "cell_type": "code",
   "execution_count": 3,
   "metadata": {},
   "outputs": [],
   "source": [
    "# Set a function for post analysis:\n",
    "\n",
    "\n",
    "#reference: \n",
    "\n",
    "import torch\n",
    "import torch.nn.functional as F\n",
    "from tqdm import tqdm\n",
    "from utils.loss_calculator import calculate_loss\n",
    "\n",
    "def evaluate_2(net, dataloader, device, amp):\n",
    "    net.eval()\n",
    "    total_loss1 = 0.0\n",
    "    total_loss2 = 0.0\n",
    "    num_batches = 0\n",
    "\n",
    "    with torch.autocast(device.type if device.type != 'mps' else 'cpu', enabled=amp):\n",
    "        for batch in tqdm(dataloader, total=num_batches, desc='Validation round', unit='batch', leave=False):\n",
    "            images, true_masks, true_D = batch['image'], batch['mask'], batch['D']\n",
    "            \n",
    "            images = images.to(device)\n",
    "            true_masks = true_masks.to(device)\n",
    "            true_D = true_D.to(device)\n",
    "            \n",
    "            # Forward pass\n",
    "            masks_pred, diffusion_pred = net(images)  # Ensure you unpack the outputs\n",
    "\n",
    "            loss1,loss2 = calculate_loss(masks_pred,diffusion_pred,true_masks,true_D)\n",
    "\n",
    "\n",
    "            # Accumulate the losses\n",
    "            total_loss1 += loss1.item()\n",
    "            total_loss2 += loss2.item()\n",
    "            num_batches += 1\n",
    "\n",
    "    # Average the losses over all batches\n",
    "    avg_loss1 = total_loss1 / num_batches if num_batches > 0 else 0\n",
    "    avg_loss2 = total_loss2 / num_batches if num_batches > 0 else 0\n",
    "\n",
    "    return avg_loss1, avg_loss2"
   ]
  },
  {
   "cell_type": "code",
   "execution_count": null,
   "metadata": {},
   "outputs": [],
   "source": []
  }
 ],
 "metadata": {
  "kernelspec": {
   "display_name": "sim_psf",
   "language": "python",
   "name": "python3"
  },
  "language_info": {
   "codemirror_mode": {
    "name": "ipython",
    "version": 3
   },
   "file_extension": ".py",
   "mimetype": "text/x-python",
   "name": "python",
   "nbconvert_exporter": "python",
   "pygments_lexer": "ipython3",
   "version": "3.12.2"
  }
 },
 "nbformat": 4,
 "nbformat_minor": 2
}
